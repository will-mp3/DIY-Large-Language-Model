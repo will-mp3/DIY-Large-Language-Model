{
 "cells": [
  {
   "cell_type": "code",
   "execution_count": 101,
   "metadata": {},
   "outputs": [
    {
     "name": "stdout",
     "output_type": "stream",
     "text": [
      "mps\n"
     ]
    }
   ],
   "source": [
    "import torch\n",
    "import torch.nn as nn\n",
    "from torch.nn import functional as F\n",
    "\n",
    "# important to node cuda is not M1 compatible, instead we use mps\n",
    "device = 'mps' if torch.backends.mps.is_available() else 'cpu'\n",
    "print(device)\n",
    "\n",
    "# hyperparameters\n",
    "block_size = 8\n",
    "batch_size = 4\n",
    "max_iters = 10000\n",
    "learning_rate = 3e-4\n",
    "eval_iters = 250"
   ]
  },
  {
   "cell_type": "code",
   "execution_count": 116,
   "metadata": {
    "vscode": {
     "languageId": "plaintext"
    }
   },
   "outputs": [
    {
     "name": "stdout",
     "output_type": "stream",
     "text": [
      "['\\n', ' ', '!', '\"', '&', \"'\", '(', ')', '*', ',', '-', '.', '0', '1', '2', '3', '4', '5', '6', '7', '8', '9', ':', ';', '?', 'A', 'B', 'C', 'D', 'E', 'F', 'G', 'H', 'I', 'J', 'K', 'L', 'M', 'N', 'O', 'P', 'Q', 'R', 'S', 'T', 'U', 'V', 'W', 'X', 'Y', 'Z', '[', ']', '_', 'a', 'b', 'c', 'd', 'e', 'f', 'g', 'h', 'i', 'j', 'k', 'l', 'm', 'n', 'o', 'p', 'q', 'r', 's', 't', 'u', 'v', 'w', 'x', 'y', 'z']\n"
     ]
    }
   ],
   "source": [
    "with open('wizard_of_oz.txt', 'r', encoding='utf-8') as f:\n",
    "    text = f.read()\n",
    "chars = sorted(set(text))\n",
    "print(chars)\n",
    "vocab_size = len(chars)"
   ]
  },
  {
   "cell_type": "code",
   "execution_count": 105,
   "metadata": {},
   "outputs": [
    {
     "name": "stdout",
     "output_type": "stream",
     "text": [
      "tensor([ 1,  1, 28, 39, 42, 39, 44, 32, 49,  1, 25, 38, 28,  1, 44, 32, 29,  1,\n",
      "        47, 33, 50, 25, 42, 28,  1, 33, 38,  1, 39, 50,  0,  0,  1,  1, 26, 49,\n",
      "         0,  0,  1,  1, 36, 11,  1, 30, 42, 25, 38, 35,  1, 26, 25, 45, 37,  0,\n",
      "         0,  1,  1, 25, 45, 44, 32, 39, 42,  1, 39, 30,  1, 44, 32, 29,  1, 47,\n",
      "        33, 50, 25, 42, 28,  1, 39, 30,  1, 39, 50,  9,  1, 44, 32, 29,  1, 36,\n",
      "        25, 38, 28,  1, 39, 30,  1, 39, 50,  9])\n"
     ]
    }
   ],
   "source": [
    "# character level tokenizer\n",
    "string_to_int = { ch:i for i,ch in enumerate(chars)}\n",
    "int_to_string = { i:ch for i,ch in enumerate(chars)}\n",
    "encode = lambda s: [string_to_int[c] for c in s]\n",
    "decode = lambda l: ''.join([int_to_string[i] for i in l])\n",
    "\n",
    "# use a tensor instead of an array\n",
    "data = torch.tensor(encode(text), dtype=torch.long)\n",
    "print(data[:100])"
   ]
  },
  {
   "cell_type": "code",
   "execution_count": 106,
   "metadata": {},
   "outputs": [
    {
     "name": "stdout",
     "output_type": "stream",
     "text": [
      "when input is tensor([1]) target is tensor(1)\n",
      "when input is tensor([1, 1]) target is tensor(28)\n",
      "when input is tensor([ 1,  1, 28]) target is tensor(39)\n",
      "when input is tensor([ 1,  1, 28, 39]) target is tensor(42)\n",
      "when input is tensor([ 1,  1, 28, 39, 42]) target is tensor(39)\n",
      "when input is tensor([ 1,  1, 28, 39, 42, 39]) target is tensor(44)\n",
      "when input is tensor([ 1,  1, 28, 39, 42, 39, 44]) target is tensor(32)\n",
      "when input is tensor([ 1,  1, 28, 39, 42, 39, 44, 32]) target is tensor(49)\n"
     ]
    }
   ],
   "source": [
    "# using block size to begin training next character predictions\n",
    "x = train_data[:block_size]\n",
    "y = train_data[1:block_size + 1]\n",
    "\n",
    "for t in range(block_size):\n",
    "    context = x[:t+1]\n",
    "    target = y[t]\n",
    "    print('when input is', context, 'target is', target)"
   ]
  },
  {
   "cell_type": "code",
   "execution_count": 107,
   "metadata": {},
   "outputs": [
    {
     "name": "stdout",
     "output_type": "stream",
     "text": [
      "inputs:\n",
      "tensor([[62, 67, 58, 57, 11,  1,  3, 45],\n",
      "        [74, 65, 57,  1, 61, 74, 71, 73],\n",
      "        [54, 67, 57,  1, 76, 58, 67, 73],\n",
      "        [75, 62, 67, 60,  1, 67, 68, 73]], device='mps:0')\n",
      "targets:\n",
      "tensor([[67, 58, 57, 11,  1,  3, 45, 67],\n",
      "        [65, 57,  1, 61, 74, 71, 73,  1],\n",
      "        [67, 57,  1, 76, 58, 67, 73,  1],\n",
      "        [62, 67, 60,  1, 67, 68, 73, 61]], device='mps:0')\n"
     ]
    }
   ],
   "source": [
    "# divide the data set into training and validation sets\n",
    "# computes 80% of the dataset size (used for training)\n",
    "n = int(0.8 * len(data)) \n",
    "train_data = data[:n] # first 80% of data is used for training\n",
    "val_data = data[n:] # remaining 20% is used for validation\n",
    "\n",
    "# defines a function that takes in split (either 'train' or 'val')\n",
    "# it returns a batch of input (x) and target (y) sequences\n",
    "def get_batch(split):\n",
    "    data = train_data if split == 'train' else val_data # select the correct data set\n",
    "    # selects batch_size random indices (ix) from the dataset\n",
    "    ix = torch.randint(len(data) - block_size, (batch_size, ))\n",
    "    # extracts block_size consecutive tokens for each i in ix and stacks them into a batch\n",
    "    x = torch.stack([data[i:i+block_size] for i in ix])\n",
    "    # extracts the next block_size tokens (shifted by one position) for each i in ix and stacks them into a batch\n",
    "    # these act as target values for training\n",
    "    y = torch.stack([data[i+1:i+block_size+1] for i in ix])\n",
    "    x, y = x.to(device), y.to(device)\n",
    "    return x, y\n",
    "\n",
    "x, y = get_batch('train')\n",
    "print('inputs:')\n",
    "print(x)\n",
    "print('targets:')\n",
    "print(y)"
   ]
  },
  {
   "cell_type": "code",
   "execution_count": 108,
   "metadata": {},
   "outputs": [],
   "source": [
    "@torch.no_grad() # ensure pytorch dosent use gradients\n",
    "def estimate_loss():\n",
    "    # empty dictionary to store loss values for the training and validation sets\n",
    "    out = {} \n",
    "    # switches the model to evaluation mode: disables behaviors like dropout or batch normalization updates\n",
    "    model.eval()\n",
    "    # iterates over both training and validation datasets\n",
    "    for split in ['train', 'val']:\n",
    "        # initializes a tensor of zeros to store loss values for eval_iters iterations\n",
    "        losses = torch.zeros(eval_iters)\n",
    "        # runs multiple evaluations (eval_iters times) to compute a more reliable loss estimate\n",
    "        for k in range(eval_iters):\n",
    "            # calls get_batch(split) to retrieve a mini-batch of input (X) and target (Y)\n",
    "            X, Y = get_batch(split)\n",
    "            # performs a forward pass on the batch\n",
    "            logits, loss = model(X, Y)\n",
    "            # stores the scalar loss value in the losses tensor at index k\n",
    "            losses[k] = loss.item()\n",
    "        # computes the average loss across eval_iters iterations\n",
    "        # stores it in the out dictionary under either 'train' or 'val'\n",
    "        out[split] = losses.mean()\n",
    "    # switches the model back to training mode\n",
    "    model.train()\n",
    "    return out"
   ]
  },
  {
   "cell_type": "markdown",
   "metadata": {},
   "source": [
    "## Train Mode (model.train())\n",
    "- Used during training to update model parameters.\n",
    "- Dropout layers are active → randomly drop neurons to prevent overfitting.\n",
    "- Batch Normalization updates its running statistics (mean & variance) based on the current batch.\n",
    "- Gradients are computed for backpropagation.\n",
    "\n",
    "\n",
    "## Evaluation Mode (model.eval())\n",
    "- Used during inference (e.g., validation, testing, deployment).\n",
    "- Dropout is disabled → all neurons are used for stable predictions.\n",
    "- Batch Normalization stops updating → it uses previously learned statistics.\n",
    "- No gradient computation when combined with torch.no_grad(), reducing memory usage and speeding up inference."
   ]
  },
  {
   "cell_type": "code",
   "execution_count": 109,
   "metadata": {},
   "outputs": [
    {
     "name": "stdout",
     "output_type": "stream",
     "text": [
      "\n",
      "*j)6\"0,\n",
      "*L*3LY;EU(YD,!r\n",
      "2jgTL(AXk;]*K3Y-eTq,AmJt9\n",
      "etI'txPCR.yJ'g_y .G*g_y9_evk'Hk\n",
      ")J5kHmJCJC3-PD7nUm,*S-c\n",
      "GuR\n",
      "ZLsAM&Gio&9F[Z q*:tCX)-IRxIzG\"i:wHmCK 6EXey:?BW((]OCiSWmfFLM1p_p2PZh]Q\n",
      "wQ)-\n",
      "jYCqp_]QG)prW.Pk,5P38-P77V3eqlL!xZbB(Dl?jQeFLBjld*R(awds?oIf.g2j1T:8gOwJFnqH5tqH)*gT9\"F4XzllHPTp7aYoYkbBa0k'AsjmVw_i3\n",
      "evkHdHEwkMSZ br]Q*Ml]H*xfjtRz'?_T.g4MsSELc_v?ol\n",
      "Y700F4\n",
      "y )l:KN?BmW\"kpp)-ar8t,N8KEQc)Lo\"KdIZJRVKJ'M?e[7*crO?oR6\"MT.EErlEBPTpLZD)J0\n",
      "GEFnErPmC]pF6EX)08a\"AAOeNSM2aeaYa\"bskMhPkZKVHJ9OUHazDTatO7pwVs_\n",
      "L\"\n"
     ]
    }
   ],
   "source": [
    "class BigramLanguageModel(nn.Module):\n",
    "    def __init__(self, vocab_size):\n",
    "        # calls the constructor of nn.Module\n",
    "        super().__init__()\n",
    "        # creates an embedding table\n",
    "        self.token_embedding_table = nn.Embedding(vocab_size, vocab_size)\n",
    "        \n",
    "    def forward(self, index, targets=None):\n",
    "        logits = self.token_embedding_table(index) # raw predictions\n",
    "        \n",
    "        if targets is None: # inference mode\n",
    "            loss = None\n",
    "        else:\n",
    "            # batch, time, channels(vocabulary)\n",
    "            # B (Batch Size) -> Number of sequences processed at once\n",
    "            # T (Time Steps / Sequence Length) -> Number of tokens in each sequence\n",
    "            # C (Vocabulary Size / Channels) -> Number of possible tokens\n",
    "            B, T, C = logits.shape\n",
    "            \n",
    "            # reshape batch and time into a single dimension \n",
    "            # so that each token is treated as a separate training example\n",
    "            logits = logits.view(B*T, C)\n",
    "            targets = targets.view(B*T) # targets also reshaped into a single B*T vector\n",
    "            \n",
    "            # compute cross-entropy loss to measure how far our predictions (logits) are from the true targets\n",
    "            loss = F.cross_entropy(logits, targets)\n",
    "        \n",
    "        return logits, loss\n",
    "    \n",
    "    def generate(self, index, max_new_tokens):\n",
    "        # index is (B, T) array of indices in the current context\n",
    "        for _ in range(max_new_tokens):\n",
    "            # get the predictions\n",
    "            logits, loss = self.forward(index)\n",
    "            # extracts only the last time step’s logits\n",
    "            logits = logits[:, -1, :] # becomes (B, C)\n",
    "            # apply softmax to get probabilities for each possible next token\n",
    "            probs = F.softmax(logits, dim=-1) # (B, C)\n",
    "            # samples one token index from the probability distribution\n",
    "            index_next = torch.multinomial(probs, num_samples=1) # (B, 1)\n",
    "            # append sampled index to the running sequence\n",
    "            index = torch.cat((index, index_next), dim=1) # (B, T+1)\n",
    "        return index\n",
    "    \n",
    "model = BigramLanguageModel(vocab_size)\n",
    "m = model.to(device) \n",
    "\n",
    "context = torch.zeros((1,1), dtype=torch.long, device=device)\n",
    "generated_chars = decode(m.generate(context, max_new_tokens=500)[0].tolist())\n",
    "print(generated_chars)\n",
    "            "
   ]
  },
  {
   "cell_type": "code",
   "execution_count": 122,
   "metadata": {},
   "outputs": [
    {
     "name": "stdout",
     "output_type": "stream",
     "text": [
      "step: 0, train loss: 2.4559, val loss: 2.4904\n",
      "step: 250, train loss: 2.4389, val loss: 2.4851\n",
      "step: 500, train loss: 2.4515, val loss: 2.4986\n",
      "step: 750, train loss: 2.4465, val loss: 2.4947\n",
      "step: 1000, train loss: 2.4425, val loss: 2.4855\n",
      "step: 1250, train loss: 2.4561, val loss: 2.4713\n",
      "step: 1500, train loss: 2.4387, val loss: 2.5075\n",
      "step: 1750, train loss: 2.4485, val loss: 2.4949\n",
      "step: 2000, train loss: 2.4249, val loss: 2.4888\n",
      "step: 2250, train loss: 2.4247, val loss: 2.4790\n",
      "step: 2500, train loss: 2.4251, val loss: 2.4871\n",
      "step: 2750, train loss: 2.4511, val loss: 2.4685\n",
      "step: 3000, train loss: 2.4544, val loss: 2.5178\n",
      "step: 3250, train loss: 2.4305, val loss: 2.4782\n",
      "step: 3500, train loss: 2.4252, val loss: 2.4832\n",
      "step: 3750, train loss: 2.4222, val loss: 2.4902\n",
      "step: 4000, train loss: 2.4240, val loss: 2.4863\n",
      "step: 4250, train loss: 2.4296, val loss: 2.4911\n",
      "step: 4500, train loss: 2.4296, val loss: 2.4985\n",
      "step: 4750, train loss: 2.4435, val loss: 2.4880\n",
      "step: 5000, train loss: 2.4402, val loss: 2.4823\n",
      "step: 5250, train loss: 2.4536, val loss: 2.4639\n",
      "step: 5500, train loss: 2.4627, val loss: 2.5053\n",
      "step: 5750, train loss: 2.4430, val loss: 2.4872\n",
      "step: 6000, train loss: 2.4385, val loss: 2.4802\n",
      "step: 6250, train loss: 2.4656, val loss: 2.4561\n",
      "step: 6500, train loss: 2.4217, val loss: 2.4775\n",
      "step: 6750, train loss: 2.4351, val loss: 2.4772\n",
      "step: 7000, train loss: 2.4444, val loss: 2.4924\n",
      "step: 7250, train loss: 2.4096, val loss: 2.4549\n",
      "step: 7500, train loss: 2.4498, val loss: 2.4858\n",
      "step: 7750, train loss: 2.4363, val loss: 2.5099\n",
      "step: 8000, train loss: 2.4263, val loss: 2.5102\n",
      "step: 8250, train loss: 2.4581, val loss: 2.4988\n",
      "step: 8500, train loss: 2.4261, val loss: 2.4624\n",
      "step: 8750, train loss: 2.4443, val loss: 2.4898\n",
      "step: 9000, train loss: 2.4543, val loss: 2.4785\n",
      "step: 9250, train loss: 2.4099, val loss: 2.4700\n",
      "step: 9500, train loss: 2.4127, val loss: 2.4637\n",
      "step: 9750, train loss: 2.4474, val loss: 2.4825\n",
      "2.5635125637054443\n"
     ]
    }
   ],
   "source": [
    "# create a pytorch optimizer\n",
    "\n",
    "# creates an AdamW (weight decay) optimizer to update the model's parameters during training\n",
    "# model.parameters() -> Fetches all learnable parameters (weights) from the model\n",
    "# lr=learning_rate -> Sets the learning rate, controlling how much the model updates per step\n",
    "optimizer = torch.optim.AdamW(model.parameters(), lr=learning_rate) \n",
    "\n",
    "for iter in range(max_iters): # each iteration performs one update step using a mini-batch of data\n",
    "    # loss evaluation\n",
    "    if iter % eval_iters == 0:\n",
    "        losses = estimate_loss()\n",
    "        print(f\"step: {iter}, train loss: {losses['train']:.4f}, val loss: {losses['val']:.4f}\")\n",
    "    \n",
    "    # fetch a small batch of training data.\n",
    "    # xb (input batch) → Contains a set of token sequences.\n",
    "    # yb (target batch) → Contains the expected outputs \n",
    "    xb, yb = get_batch('train')\n",
    "    \n",
    "    # runs the forward pass of the model on xb to get logits and loss\n",
    "    logits, loss = model.forward(xb, yb)\n",
    "    # clears old gradients from the previous iteration\n",
    "    optimizer.zero_grad(set_to_none=True)\n",
    "    # computes gradients of the loss with respect to model parameters using backpropagation\n",
    "    # these gradients will be used to update the model\n",
    "    loss.backward()\n",
    "    # updates model parameters using the gradients computed in loss.backward()\n",
    "    optimizer.step()\n",
    "    \n",
    "print(loss.item())"
   ]
  },
  {
   "cell_type": "markdown",
   "metadata": {},
   "source": [
    "## OPTIMIZERS\n",
    "\n",
    "1. **Mean Squared Error:** MSE is a common loss function used in regression problems, where the goal is to predict a \n",
    "   continuous output. It measures the average squared distance between the predicted and actual values, and is\n",
    "   often used to train neural networks for regression tasks.\n",
    "   \n",
    "   \n",
    "2. **Gradient Descent:** Gradient Descent is a fundamental optimization algorithm used to minimize loss functions by \n",
    "   iteratively updating model parameters. It computes the gradient of the loss function with respect to each \n",
    "   parameter and moves in the opposite direction of the gradient by a small step (learning rate). This method is \n",
    "   widely used in training machine learning models, but it can be slow and sensitive to learning rate selection.\n",
    "   \n",
    "   \n",
    "3. **Momentum:** Momentum is an extension of gradient descent that helps accelerate convergence by maintaining an \n",
    "   exponentially weighted moving average of past gradients. Instead of updating weights solely based on the current \n",
    "   gradient, it incorporates a fraction of the previous update to smooth out oscillations and improve stability. \n",
    "   This is particularly useful in training deep neural networks, where gradients can be noisy.\n",
    "   \n",
    "   \n",
    "4. **RMSprop:** RMSprop (Root Mean Square Propagation) is an adaptive learning rate optimization algorithm designed to \n",
    "   address issues in gradient descent by maintaining a moving average of squared gradients for each parameter. It \n",
    "   normalizes the gradient updates using this average, preventing large swings in weight updates and improving \n",
    "   training stability, especially in recurrent neural networks (RNNs) and deep learning tasks.\n",
    "   \n",
    "   \n",
    "5. **Adam:** Adam (Adaptive Moment Estimation) combines ideas from Momentum and RMSprop by keeping track of both \n",
    "   first-order (mean) and second-order (variance) moments of gradients. This allows it to adaptively adjust \n",
    "   learning rates for each parameter based on its history, leading to faster convergence and better performance on \n",
    "   complex deep learning tasks. Adam is widely used due to its efficiency and robustness.\n",
    "   \n",
    "   \n",
    "6. **AdamW:** AdamW is a variant of Adam that improves weight regularization by decoupling weight decay from gradient \n",
    "   updates. Unlike Adam, which applies L2 regularization directly to the gradients, AdamW applies weight decay \n",
    "   directly to the parameters, leading to better generalization and preventing overfitting in deep learning models. \n",
    "   It is commonly used in modern architectures such as transformers."
   ]
  },
  {
   "cell_type": "code",
   "execution_count": 123,
   "metadata": {},
   "outputs": [
    {
     "name": "stdout",
     "output_type": "stream",
     "text": [
      "\n",
      "\"I cher?\" ce y tsterslo  f  t I irthe figgr bediso ou as awals \"w.\n",
      "\"astle thadindupide.\n",
      "\n",
      "\"I'st w thy incousoor y wndowamaberme kead wapofo ly.\n",
      "\n",
      "k ytheal we meyo thedifupr s d  wathtomealima p I abed\n",
      "\n",
      "er  My nd t tan\n",
      "\" he ad He s dond hatheal utoue Stst, r bs waind be Dok;.\n",
      "\"\n",
      "\n",
      "atondandid, nnd an bef. by d ha tr mo\n",
      "\"\n",
      "afor Ting uthealyle wicigr hin,\n",
      "ng topowa  an oilouneo thougithet.\"Biped, omathe\n",
      "\n",
      "Thed b-ismo ing twhe tharvoungrd towd opleaitfl-zain matiseme, wem y hy. llalyoth pofte thairereno f\n",
      "\n"
     ]
    }
   ],
   "source": [
    "context = torch.zeros((1, 1), dtype=torch.long, device=device)\n",
    "generated_chars = decode(m.generate(context, max_new_tokens=500)[0].tolist())\n",
    "print(generated_chars)"
   ]
  },
  {
   "cell_type": "code",
   "execution_count": null,
   "metadata": {},
   "outputs": [],
   "source": []
  }
 ],
 "metadata": {
  "kernelspec": {
   "display_name": "gpu kernel",
   "language": "python",
   "name": "gpu_kernel"
  },
  "language_info": {
   "codemirror_mode": {
    "name": "ipython",
    "version": 3
   },
   "file_extension": ".py",
   "mimetype": "text/x-python",
   "name": "python",
   "nbconvert_exporter": "python",
   "pygments_lexer": "ipython3",
   "version": "3.13.2"
  }
 },
 "nbformat": 4,
 "nbformat_minor": 2
}
